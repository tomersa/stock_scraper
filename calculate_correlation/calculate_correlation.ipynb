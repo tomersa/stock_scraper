{
 "cells": [
  {
   "cell_type": "code",
   "execution_count": 5,
   "metadata": {},
   "outputs": [],
   "source": [
    "import pandas as pd\n",
    "import numpy as np\n",
    "\n",
    "import datetime as dt\n",
    "import matplotlib.pyplot as pyplt\n",
    "from datetime import timedelta\n",
    "\n",
    "%matplotlib inline\n",
    "\n",
    "first_stock = 's_n_p_500_historical_data.csv'\n",
    "second_stock = 'nasdaq_historical_data.csv'\n",
    "SAMPLING_RATE = 'M'"
   ]
  },
  {
   "cell_type": "code",
   "execution_count": 6,
   "metadata": {},
   "outputs": [
    {
     "data": {
      "text/html": [
       "<div>\n",
       "<style scoped>\n",
       "    .dataframe tbody tr th:only-of-type {\n",
       "        vertical-align: middle;\n",
       "    }\n",
       "\n",
       "    .dataframe tbody tr th {\n",
       "        vertical-align: top;\n",
       "    }\n",
       "\n",
       "    .dataframe thead th {\n",
       "        text-align: right;\n",
       "    }\n",
       "</style>\n",
       "<table border=\"1\" class=\"dataframe\">\n",
       "  <thead>\n",
       "    <tr style=\"text-align: right;\">\n",
       "      <th></th>\n",
       "      <th>Date</th>\n",
       "      <th>Open</th>\n",
       "      <th>High</th>\n",
       "      <th>Low</th>\n",
       "      <th>Close</th>\n",
       "      <th>Adj Close</th>\n",
       "      <th>Volume</th>\n",
       "    </tr>\n",
       "  </thead>\n",
       "  <tbody>\n",
       "    <tr>\n",
       "      <th>0</th>\n",
       "      <td>1927-12-30</td>\n",
       "      <td>17.660000</td>\n",
       "      <td>17.660000</td>\n",
       "      <td>17.660000</td>\n",
       "      <td>17.660000</td>\n",
       "      <td>17.660000</td>\n",
       "      <td>0</td>\n",
       "    </tr>\n",
       "    <tr>\n",
       "      <th>1</th>\n",
       "      <td>1928-01-03</td>\n",
       "      <td>17.760000</td>\n",
       "      <td>17.760000</td>\n",
       "      <td>17.760000</td>\n",
       "      <td>17.760000</td>\n",
       "      <td>17.760000</td>\n",
       "      <td>0</td>\n",
       "    </tr>\n",
       "    <tr>\n",
       "      <th>2</th>\n",
       "      <td>1928-01-04</td>\n",
       "      <td>17.719999</td>\n",
       "      <td>17.719999</td>\n",
       "      <td>17.719999</td>\n",
       "      <td>17.719999</td>\n",
       "      <td>17.719999</td>\n",
       "      <td>0</td>\n",
       "    </tr>\n",
       "    <tr>\n",
       "      <th>3</th>\n",
       "      <td>1928-01-05</td>\n",
       "      <td>17.549999</td>\n",
       "      <td>17.549999</td>\n",
       "      <td>17.549999</td>\n",
       "      <td>17.549999</td>\n",
       "      <td>17.549999</td>\n",
       "      <td>0</td>\n",
       "    </tr>\n",
       "    <tr>\n",
       "      <th>4</th>\n",
       "      <td>1928-01-06</td>\n",
       "      <td>17.660000</td>\n",
       "      <td>17.660000</td>\n",
       "      <td>17.660000</td>\n",
       "      <td>17.660000</td>\n",
       "      <td>17.660000</td>\n",
       "      <td>0</td>\n",
       "    </tr>\n",
       "  </tbody>\n",
       "</table>\n",
       "</div>"
      ],
      "text/plain": [
       "         Date       Open       High        Low      Close  Adj Close  Volume\n",
       "0  1927-12-30  17.660000  17.660000  17.660000  17.660000  17.660000       0\n",
       "1  1928-01-03  17.760000  17.760000  17.760000  17.760000  17.760000       0\n",
       "2  1928-01-04  17.719999  17.719999  17.719999  17.719999  17.719999       0\n",
       "3  1928-01-05  17.549999  17.549999  17.549999  17.549999  17.549999       0\n",
       "4  1928-01-06  17.660000  17.660000  17.660000  17.660000  17.660000       0"
      ]
     },
     "execution_count": 6,
     "metadata": {},
     "output_type": "execute_result"
    }
   ],
   "source": [
    "df_SAIL = pd.read_csv(first_stock)\n",
    "df_JSW = pd.read_csv(second_stock)\n",
    "\n",
    "df_SAIL.head()\n",
    "#print(df_SAIL[['Date', 'Open', 'High', 'Low', 'Close']][:3])\n",
    "#print(df_JSW[['Date', 'Open', 'High', 'Low', 'Close']][:3])\n"
   ]
  },
  {
   "cell_type": "code",
   "execution_count": 7,
   "metadata": {},
   "outputs": [
    {
     "name": "stdout",
     "output_type": "stream",
     "text": [
      "<class 'pandas.core.frame.DataFrame'>\n",
      "RangeIndex: 4506 entries, 0 to 4505\n",
      "Data columns (total 7 columns):\n",
      " #   Column     Non-Null Count  Dtype  \n",
      "---  ------     --------------  -----  \n",
      " 0   Date       4506 non-null   object \n",
      " 1   Open       4506 non-null   float64\n",
      " 2   High       4506 non-null   float64\n",
      " 3   Low        4506 non-null   float64\n",
      " 4   Close      4506 non-null   float64\n",
      " 5   Adj Close  4506 non-null   float64\n",
      " 6   Volume     4506 non-null   int64  \n",
      "dtypes: float64(5), int64(1), object(1)\n",
      "memory usage: 246.5+ KB\n"
     ]
    }
   ],
   "source": [
    "df_JSW.info()"
   ]
  },
  {
   "cell_type": "code",
   "execution_count": 8,
   "metadata": {},
   "outputs": [
    {
     "data": {
      "text/plain": [
       "<matplotlib.axes._subplots.AxesSubplot at 0x7f0a70b21ed0>"
      ]
     },
     "execution_count": 8,
     "metadata": {},
     "output_type": "execute_result"
    },
    {
     "data": {
      "image/png": "[encoded data removed]",
      "text/plain": [
       "<Figure size 432x288 with 1 Axes>"
      ]
     },
     "metadata": {
      "needs_background": "light"
     },
     "output_type": "display_data"
    }
   ],
   "source": [
    "#Add a new column for daily return on closing price to each dataframe\n",
    "df_SAIL['dailyret'] = df_SAIL['Close'].pct_change(1)\n",
    "df_JSW['dailyret'] = df_JSW['Close'].pct_change(1)\n",
    "\n",
    "#plot\n",
    "df_SAIL['dailyret'].plot()\n",
    "df_JSW['dailyret'].plot()"
   ]
  },
  {
   "cell_type": "code",
   "execution_count": 9,
   "metadata": {},
   "outputs": [],
   "source": [
    "#Index the dataframes\n",
    "df_JSW.set_index(df_JSW['Date'].apply(lambda x: dt.datetime.strptime(x,'%Y-%m-%d')), drop=True, inplace=True)\n",
    "\n",
    "df_SAIL.set_index(df_SAIL['Date'].apply(lambda x: dt.datetime.strptime(x,'%Y-%m-%d')), drop=True, inplace=True)"
   ]
  },
  {
   "cell_type": "code",
   "execution_count": null,
   "metadata": {},
   "outputs": [],
   "source": [
    "df_SAIL = df_SAIL.resample(SAMPLING_RATE).mean()\n",
    "df_JSW = df_JSW.resample(SAMPLING_RATE).mean()"
   ]
  },
  {
   "cell_type": "code",
   "execution_count": 145,
   "metadata": {},
   "outputs": [],
   "source": [
    "# #Filter by date to view the anomaly\n",
    "# start_date = '01-Jan-2017'\n",
    "# end_date = '10-Jan-2017'\n",
    "# startdate = pd.to_datetime(start_date)\n",
    "# enddate = pd.to_datetime(end_date)\n",
    "# df_JSW['dailyret'][startdate:enddate].plot()\n",
    " \n",
    "\n",
    "\n",
    "# #The anomaly lies on the 4th of Jan 2017, as is observed from the data. Let's have a look at the data around this date.\n",
    "\n",
    "# df_JSW[startdate:enddate][:3]\n",
    "\n",
    "# #Delete a few columns that are not needed and have a look at the data.\n"
   ]
  },
  {
   "cell_type": "code",
   "execution_count": 146,
   "metadata": {},
   "outputs": [
    {
     "data": {
      "text/html": [
       "<div>\n",
       "<style scoped>\n",
       "    .dataframe tbody tr th:only-of-type {\n",
       "        vertical-align: middle;\n",
       "    }\n",
       "\n",
       "    .dataframe tbody tr th {\n",
       "        vertical-align: top;\n",
       "    }\n",
       "\n",
       "    .dataframe thead th {\n",
       "        text-align: right;\n",
       "    }\n",
       "</style>\n",
       "<table border=\"1\" class=\"dataframe\">\n",
       "  <thead>\n",
       "    <tr style=\"text-align: right;\">\n",
       "      <th></th>\n",
       "      <th>Date</th>\n",
       "      <th>Open</th>\n",
       "      <th>High</th>\n",
       "      <th>Low</th>\n",
       "      <th>Close</th>\n",
       "      <th>Adj Close</th>\n",
       "      <th>Volume</th>\n",
       "      <th>dailyret</th>\n",
       "    </tr>\n",
       "    <tr>\n",
       "      <th>Date</th>\n",
       "      <th></th>\n",
       "      <th></th>\n",
       "      <th></th>\n",
       "      <th></th>\n",
       "      <th></th>\n",
       "      <th></th>\n",
       "      <th></th>\n",
       "      <th></th>\n",
       "    </tr>\n",
       "  </thead>\n",
       "  <tbody>\n",
       "    <tr>\n",
       "      <th>1927-12-30</th>\n",
       "      <td>1927-12-30</td>\n",
       "      <td>17.660000</td>\n",
       "      <td>17.660000</td>\n",
       "      <td>17.660000</td>\n",
       "      <td>17.660000</td>\n",
       "      <td>17.660000</td>\n",
       "      <td>0</td>\n",
       "      <td>NaN</td>\n",
       "    </tr>\n",
       "    <tr>\n",
       "      <th>1928-01-03</th>\n",
       "      <td>1928-01-03</td>\n",
       "      <td>17.760000</td>\n",
       "      <td>17.760000</td>\n",
       "      <td>17.760000</td>\n",
       "      <td>17.760000</td>\n",
       "      <td>17.760000</td>\n",
       "      <td>0</td>\n",
       "      <td>0.005663</td>\n",
       "    </tr>\n",
       "    <tr>\n",
       "      <th>1928-01-04</th>\n",
       "      <td>1928-01-04</td>\n",
       "      <td>17.719999</td>\n",
       "      <td>17.719999</td>\n",
       "      <td>17.719999</td>\n",
       "      <td>17.719999</td>\n",
       "      <td>17.719999</td>\n",
       "      <td>0</td>\n",
       "      <td>-0.002252</td>\n",
       "    </tr>\n",
       "    <tr>\n",
       "      <th>1928-01-05</th>\n",
       "      <td>1928-01-05</td>\n",
       "      <td>17.549999</td>\n",
       "      <td>17.549999</td>\n",
       "      <td>17.549999</td>\n",
       "      <td>17.549999</td>\n",
       "      <td>17.549999</td>\n",
       "      <td>0</td>\n",
       "      <td>-0.009594</td>\n",
       "    </tr>\n",
       "    <tr>\n",
       "      <th>1928-01-06</th>\n",
       "      <td>1928-01-06</td>\n",
       "      <td>17.660000</td>\n",
       "      <td>17.660000</td>\n",
       "      <td>17.660000</td>\n",
       "      <td>17.660000</td>\n",
       "      <td>17.660000</td>\n",
       "      <td>0</td>\n",
       "      <td>0.006268</td>\n",
       "    </tr>\n",
       "  </tbody>\n",
       "</table>\n",
       "</div>"
      ],
      "text/plain": [
       "                  Date       Open       High        Low      Close  Adj Close  \\\n",
       "Date                                                                            \n",
       "1927-12-30  1927-12-30  17.660000  17.660000  17.660000  17.660000  17.660000   \n",
       "1928-01-03  1928-01-03  17.760000  17.760000  17.760000  17.760000  17.760000   \n",
       "1928-01-04  1928-01-04  17.719999  17.719999  17.719999  17.719999  17.719999   \n",
       "1928-01-05  1928-01-05  17.549999  17.549999  17.549999  17.549999  17.549999   \n",
       "1928-01-06  1928-01-06  17.660000  17.660000  17.660000  17.660000  17.660000   \n",
       "\n",
       "            Volume  dailyret  \n",
       "Date                          \n",
       "1927-12-30       0       NaN  \n",
       "1928-01-03       0  0.005663  \n",
       "1928-01-04       0 -0.002252  \n",
       "1928-01-05       0 -0.009594  \n",
       "1928-01-06       0  0.006268  "
      ]
     },
     "execution_count": 146,
     "metadata": {},
     "output_type": "execute_result"
    }
   ],
   "source": [
    "df_SAIL.head()"
   ]
  },
  {
   "cell_type": "code",
   "execution_count": 147,
   "metadata": {},
   "outputs": [
    {
     "name": "stdout",
     "output_type": "stream",
     "text": [
      "JSW Daily Return Average :  7.744355346607332  basis points \n",
      "SAIL Daily Return Average :  2.94889662925862  basis points \n"
     ]
    }
   ],
   "source": [
    "#Analyze correlation between stocks of the same sector\n",
    "df_JSW['dailyret'] = df_JSW['Close'].pct_change(1)\n",
    "\n",
    "#3. Multiply the daily return deviation\n",
    "#4. Divide by the number of rows to arrive at covariance\n",
    "\n",
    "#5. Further , Calculate the correlation co-efficient from covariance\n",
    "#6. Calculate standard deviation of Daily return of each stock\n",
    "\n",
    "#1. Calculate mean of daily return\n",
    "jsw_dailyret_mean =  df_JSW['dailyret'].mean()\n",
    "sail_daily_ret_mean = df_SAIL['dailyret'].mean()\n",
    "\n",
    "print(\"JSW Daily Return Average : \" , jsw_dailyret_mean * 10000 , \" basis points \")\n",
    "print(\"SAIL Daily Return Average : \" , sail_daily_ret_mean * 10000 , \" basis points \")\n",
    "\n",
    "#JSW Daily Return Average :  14.6521291185  basis points \n",
    "#SAIL Daily Return Average :  26.5038546269  basis "
   ]
  },
  {
   "cell_type": "code",
   "execution_count": 148,
   "metadata": {},
   "outputs": [
    {
     "name": "stdout",
     "output_type": "stream",
     "text": [
      "Date\n",
      "2002-07-01         NaN\n",
      "2002-07-02    0.007892\n",
      "2002-07-03   -0.009367\n",
      "Name: dailyret dev, dtype: float64\n",
      "Date\n",
      "1927-12-30         NaN\n",
      "1928-01-03    0.005368\n",
      "1928-01-04   -0.002547\n",
      "Name: dailyret dev, dtype: float64\n"
     ]
    }
   ],
   "source": [
    "#2. Calculate deviation from the mean for each row for each dataframe\n",
    "df_JSW['dailyret dev'] = df_JSW['dailyret'].apply(lambda x : x - jsw_dailyret_mean )\n",
    "df_SAIL['dailyret dev'] = df_SAIL['dailyret'].apply(lambda x : x - sail_daily_ret_mean )\n",
    "\n",
    "print(df_JSW['dailyret dev'][:3])\n",
    "print(df_SAIL['dailyret dev'][:3])"
   ]
  },
  {
   "cell_type": "code",
   "execution_count": 149,
   "metadata": {},
   "outputs": [
    {
     "data": {
      "text/plain": [
       "[Timestamp('2002-07-01 00:00:00'), Timestamp('2020-05-22 00:00:00')]"
      ]
     },
     "metadata": {},
     "output_type": "display_data"
    }
   ],
   "source": [
    "min_date = max(df_JSW.index[0], df_SAIL.index[0])\n",
    "max_date = min(df_JSW.index[-1], df_SAIL.index[-1])\n",
    "display([min_date, max_date])"
   ]
  },
  {
   "cell_type": "code",
   "execution_count": 150,
   "metadata": {},
   "outputs": [
    {
     "name": "stderr",
     "output_type": "stream",
     "text": [
      "/mnt/home/tomer/anaconda3/lib/python3.7/site-packages/ipykernel_launcher.py:1: UserWarning: Boolean Series key will be reindexed to match DataFrame index.\n",
      "  \"\"\"Entry point for launching an IPython kernel.\n"
     ]
    }
   ],
   "source": [
    "df_SAIL = df_SAIL[min_date <= pd.to_datetime(df_SAIL['Date'])][pd.to_datetime(df_SAIL['Date']) <= max_date]\n",
    "df_JSW = df_JSW[min_date <= pd.to_datetime(df_JSW['Date'])][pd.to_datetime(df_JSW['Date']) <= max_date]"
   ]
  },
  {
   "cell_type": "code",
   "execution_count": 151,
   "metadata": {},
   "outputs": [
    {
     "name": "stdout",
     "output_type": "stream",
     "text": [
      "Covariance of Daily Return :  0.00017480767632562741\n"
     ]
    }
   ],
   "source": [
    "dev_sail_jsw_steel =  df_SAIL['dailyret dev'][1:]  * df_JSW['dailyret dev'][1:]\n",
    "cov_sail_jsw_steel = sum(dev_sail_jsw_steel) / (len(df_SAIL) - 1)\n",
    "print(\"Covariance of Daily Return : \",  cov_sail_jsw_steel)\n",
    "\n",
    "#Covariance of Daily Return :  0.000281631199282"
   ]
  },
  {
   "cell_type": "code",
   "execution_count": 152,
   "metadata": {},
   "outputs": [
    {
     "name": "stdout",
     "output_type": "stream",
     "text": [
      "0.5522574746640434\n"
     ]
    }
   ],
   "source": [
    "sigma_jsw = df_JSW['dailyret'].std()\n",
    "sigma_sail = df_SAIL['dailyret'].std()\n",
    "coeff_cor = cov_sail_jsw_steel / (sigma_jsw * sigma_sail)\n",
    "print(coeff_cor)\n",
    "\n",
    "#0.626551516998\n",
    "# Interpretation\n",
    "#A value of 0.62 indicates a relatively strong correlation between the two equities. This implies that the daily return of the two equities , typically moves in the same direction. \n",
    " \n",
    " \n",
    "\n"
   ]
  }
 ],
 "metadata": {
  "kernelspec": {
   "display_name": "Python 3",
   "language": "python",
   "name": "python3"
  },
  "language_info": {
   "codemirror_mode": {
    "name": "ipython",
    "version": 3
   },
   "file_extension": ".py",
   "mimetype": "text/x-python",
   "name": "python",
   "nbconvert_exporter": "python",
   "pygments_lexer": "ipython3",
   "version": "3.7.6"
  }
 },
 "nbformat": 4,
 "nbformat_minor": 4
}
